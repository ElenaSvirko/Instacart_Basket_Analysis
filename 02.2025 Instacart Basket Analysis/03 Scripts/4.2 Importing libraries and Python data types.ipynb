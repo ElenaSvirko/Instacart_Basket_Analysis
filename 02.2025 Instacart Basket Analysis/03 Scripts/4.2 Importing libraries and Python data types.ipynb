{
 "cells": [
  {
   "cell_type": "markdown",
   "id": "1e383882-59b3-493e-b77f-eaf13bc4fea1",
   "metadata": {},
   "source": [
    "# 01. Importing libraries"
   ]
  },
  {
   "cell_type": "code",
   "execution_count": 3,
   "id": "78019b8c-7487-482f-9c3e-bc03393f9953",
   "metadata": {},
   "outputs": [],
   "source": [
    "# Import Libraries\n",
    "import pandas as pd\n",
    "import numpy as np\n",
    "import os"
   ]
  },
  {
   "cell_type": "markdown",
   "id": "e0a7a879-9981-47af-b119-58433881fd4a",
   "metadata": {},
   "source": [
    "# 02. Data types"
   ]
  },
  {
   "cell_type": "code",
   "execution_count": 8,
   "id": "dcc053de-db8f-4ac0-8b2e-c0be82c8c81c",
   "metadata": {},
   "outputs": [],
   "source": [
    "# Code 3 different ways of reaching a result of 100 by adding or subtracting numeric variables.\n",
    "x=1\n",
    "y=99"
   ]
  },
  {
   "cell_type": "code",
   "execution_count": 10,
   "id": "24f5e621-0fc1-47e1-b7c8-ecbba9e45337",
   "metadata": {},
   "outputs": [
    {
     "data": {
      "text/plain": [
       "100"
      ]
     },
     "execution_count": 10,
     "metadata": {},
     "output_type": "execute_result"
    }
   ],
   "source": [
    "x+y"
   ]
  },
  {
   "cell_type": "code",
   "execution_count": 12,
   "id": "f1e0d770-3290-4a82-97b0-33f762b7e983",
   "metadata": {},
   "outputs": [],
   "source": [
    "x=105\n",
    "y=5"
   ]
  },
  {
   "cell_type": "code",
   "execution_count": 14,
   "id": "38ae0061-248b-43a5-9ed6-8d89dd7f03c5",
   "metadata": {},
   "outputs": [
    {
     "data": {
      "text/plain": [
       "100"
      ]
     },
     "execution_count": 14,
     "metadata": {},
     "output_type": "execute_result"
    }
   ],
   "source": [
    "x-y"
   ]
  },
  {
   "cell_type": "code",
   "execution_count": 16,
   "id": "d4fee599-f8c7-4b93-953c-71136f924cd4",
   "metadata": {},
   "outputs": [],
   "source": [
    "x=1000\n",
    "y=900"
   ]
  },
  {
   "cell_type": "code",
   "execution_count": 18,
   "id": "f369dfc0-0c47-450c-a374-c8f6efc545de",
   "metadata": {},
   "outputs": [
    {
     "data": {
      "text/plain": [
       "100"
      ]
     },
     "execution_count": 18,
     "metadata": {},
     "output_type": "execute_result"
    }
   ],
   "source": [
    "x-y"
   ]
  },
  {
   "cell_type": "code",
   "execution_count": 20,
   "id": "65bea307-9739-494d-847f-47d0408c6632",
   "metadata": {},
   "outputs": [],
   "source": [
    "# Code 2 floating-point variables and divide them by each other."
   ]
  },
  {
   "cell_type": "code",
   "execution_count": 22,
   "id": "8506fa08-ff76-4217-b905-8346f21cff8a",
   "metadata": {},
   "outputs": [],
   "source": [
    "x=36.3\n",
    "y=6.6"
   ]
  },
  {
   "cell_type": "code",
   "execution_count": 24,
   "id": "6448f2ca-5eb7-4735-bf9a-01f349dbec9d",
   "metadata": {},
   "outputs": [
    {
     "data": {
      "text/plain": [
       "5.5"
      ]
     },
     "execution_count": 24,
     "metadata": {},
     "output_type": "execute_result"
    }
   ],
   "source": [
    "x/y"
   ]
  },
  {
   "cell_type": "code",
   "execution_count": 34,
   "id": "91361f7e-c3e8-4728-9fb8-5f96011c4fe9",
   "metadata": {},
   "outputs": [],
   "source": [
    "# Construct a short word made of separate strings."
   ]
  },
  {
   "cell_type": "code",
   "execution_count": 28,
   "id": "472c0ef0-5930-4e2d-ab95-232b25747aae",
   "metadata": {},
   "outputs": [],
   "source": [
    "x=\"Py\"\n",
    "y=\"thon\""
   ]
  },
  {
   "cell_type": "code",
   "execution_count": 30,
   "id": "bb2c33f3-8173-44f3-82c7-f3735a7bb670",
   "metadata": {},
   "outputs": [
    {
     "data": {
      "text/plain": [
       "'Python'"
      ]
     },
     "execution_count": 30,
     "metadata": {},
     "output_type": "execute_result"
    }
   ],
   "source": [
    "x+y"
   ]
  },
  {
   "cell_type": "code",
   "execution_count": 32,
   "id": "8db29b11-9169-434d-9abb-83951d8c769d",
   "metadata": {},
   "outputs": [],
   "source": [
    "# Construct 2 short sentences made of separate strings."
   ]
  },
  {
   "cell_type": "code",
   "execution_count": 36,
   "id": "0af23ace-0819-4b3e-b024-940339ee7325",
   "metadata": {},
   "outputs": [],
   "source": [
    "a=\"Houston, we have a problem.\""
   ]
  },
  {
   "cell_type": "code",
   "execution_count": 38,
   "id": "60f3ca34-a5db-4061-aed9-60b57afbfe2d",
   "metadata": {},
   "outputs": [],
   "source": [
    "b=\" I'm out of coffee.\""
   ]
  },
  {
   "cell_type": "code",
   "execution_count": 40,
   "id": "a52539cb-2026-46b7-9cc8-046b367e80ca",
   "metadata": {},
   "outputs": [
    {
     "data": {
      "text/plain": [
       "\"Houston, we have a problem. I'm out of coffee.\""
      ]
     },
     "execution_count": 40,
     "metadata": {},
     "output_type": "execute_result"
    }
   ],
   "source": [
    "a+b"
   ]
  },
  {
   "cell_type": "code",
   "execution_count": 42,
   "id": "cfc2fc41-3025-43a6-8356-234762fea468",
   "metadata": {},
   "outputs": [],
   "source": [
    "# Bonus Task. At the bottom of your file, include a command that makes a string appear 100 times."
   ]
  },
  {
   "cell_type": "code",
   "execution_count": 44,
   "id": "be3905ec-e136-425d-8c5a-c5a3205056e4",
   "metadata": {},
   "outputs": [],
   "source": [
    "c=\"The expert in anything was once a beginner.\""
   ]
  },
  {
   "cell_type": "code",
   "execution_count": 46,
   "id": "46728b49-c25b-469f-bc76-244e748d667c",
   "metadata": {},
   "outputs": [
    {
     "data": {
      "text/plain": [
       "'The expert in anything was once a beginner.The expert in anything was once a beginner.The expert in anything was once a beginner.The expert in anything was once a beginner.The expert in anything was once a beginner.The expert in anything was once a beginner.The expert in anything was once a beginner.The expert in anything was once a beginner.The expert in anything was once a beginner.The expert in anything was once a beginner.The expert in anything was once a beginner.The expert in anything was once a beginner.The expert in anything was once a beginner.The expert in anything was once a beginner.The expert in anything was once a beginner.The expert in anything was once a beginner.The expert in anything was once a beginner.The expert in anything was once a beginner.The expert in anything was once a beginner.The expert in anything was once a beginner.The expert in anything was once a beginner.The expert in anything was once a beginner.The expert in anything was once a beginner.The expert in anything was once a beginner.The expert in anything was once a beginner.The expert in anything was once a beginner.The expert in anything was once a beginner.The expert in anything was once a beginner.The expert in anything was once a beginner.The expert in anything was once a beginner.The expert in anything was once a beginner.The expert in anything was once a beginner.The expert in anything was once a beginner.The expert in anything was once a beginner.The expert in anything was once a beginner.The expert in anything was once a beginner.The expert in anything was once a beginner.The expert in anything was once a beginner.The expert in anything was once a beginner.The expert in anything was once a beginner.The expert in anything was once a beginner.The expert in anything was once a beginner.The expert in anything was once a beginner.The expert in anything was once a beginner.The expert in anything was once a beginner.The expert in anything was once a beginner.The expert in anything was once a beginner.The expert in anything was once a beginner.The expert in anything was once a beginner.The expert in anything was once a beginner.The expert in anything was once a beginner.The expert in anything was once a beginner.The expert in anything was once a beginner.The expert in anything was once a beginner.The expert in anything was once a beginner.The expert in anything was once a beginner.The expert in anything was once a beginner.The expert in anything was once a beginner.The expert in anything was once a beginner.The expert in anything was once a beginner.The expert in anything was once a beginner.The expert in anything was once a beginner.The expert in anything was once a beginner.The expert in anything was once a beginner.The expert in anything was once a beginner.The expert in anything was once a beginner.The expert in anything was once a beginner.The expert in anything was once a beginner.The expert in anything was once a beginner.The expert in anything was once a beginner.The expert in anything was once a beginner.The expert in anything was once a beginner.The expert in anything was once a beginner.The expert in anything was once a beginner.The expert in anything was once a beginner.The expert in anything was once a beginner.The expert in anything was once a beginner.The expert in anything was once a beginner.The expert in anything was once a beginner.The expert in anything was once a beginner.The expert in anything was once a beginner.The expert in anything was once a beginner.The expert in anything was once a beginner.The expert in anything was once a beginner.The expert in anything was once a beginner.The expert in anything was once a beginner.The expert in anything was once a beginner.The expert in anything was once a beginner.The expert in anything was once a beginner.The expert in anything was once a beginner.The expert in anything was once a beginner.The expert in anything was once a beginner.The expert in anything was once a beginner.The expert in anything was once a beginner.The expert in anything was once a beginner.The expert in anything was once a beginner.The expert in anything was once a beginner.The expert in anything was once a beginner.The expert in anything was once a beginner.The expert in anything was once a beginner.'"
      ]
     },
     "execution_count": 46,
     "metadata": {},
     "output_type": "execute_result"
    }
   ],
   "source": [
    "c*100"
   ]
  },
  {
   "cell_type": "code",
   "execution_count": null,
   "id": "7d79062d-96c4-4813-a279-c79ead2f60ef",
   "metadata": {},
   "outputs": [],
   "source": []
  }
 ],
 "metadata": {
  "kernelspec": {
   "display_name": "Python [conda env:base] *",
   "language": "python",
   "name": "conda-base-py"
  },
  "language_info": {
   "codemirror_mode": {
    "name": "ipython",
    "version": 3
   },
   "file_extension": ".py",
   "mimetype": "text/x-python",
   "name": "python",
   "nbconvert_exporter": "python",
   "pygments_lexer": "ipython3",
   "version": "3.12.7"
  }
 },
 "nbformat": 4,
 "nbformat_minor": 5
}
