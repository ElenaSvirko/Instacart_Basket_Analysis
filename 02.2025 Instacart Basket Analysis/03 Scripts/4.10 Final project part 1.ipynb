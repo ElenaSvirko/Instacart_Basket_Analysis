{
 "cells": [
  {
   "cell_type": "markdown",
   "id": "94f9b381-126b-4cd1-a03b-a87ff77cdf9c",
   "metadata": {},
   "source": [
    "## CONTENTS\n",
    "### 1 Importing libraries\n",
    "### 2 Importing data\n",
    "### 3 Data security\n",
    "### 4 Spending habits between different regions\n",
    "### 5 Excluding low-activity customers from the dataframe\n",
    "### 6 Exporting the dataframe with normal activity customers as a pickle file\n"
   ]
  },
  {
   "cell_type": "markdown",
   "id": "d294f0d2-ebd1-44e6-ab03-58133d326087",
   "metadata": {},
   "source": [
    "# 01 Importing libraries"
   ]
  },
  {
   "cell_type": "code",
   "execution_count": 2,
   "id": "f4b99fc9-908d-4513-a95d-0328bb888ebd",
   "metadata": {},
   "outputs": [],
   "source": [
    "# Import Libraries\n",
    "import pandas as pd\n",
    "import numpy as np\n",
    "import os\n",
    "import matplotlib.pyplot as plt\n",
    "import seaborn as sns\n",
    "import scipy"
   ]
  },
  {
   "cell_type": "markdown",
   "id": "8ff1efac-cd73-483d-9be1-b40da5eca83c",
   "metadata": {},
   "source": [
    "# 02 Importing data"
   ]
  },
  {
   "cell_type": "code",
   "execution_count": 4,
   "id": "828ff544-df71-434a-a8d2-742d42be0712",
   "metadata": {},
   "outputs": [],
   "source": [
    "# Establish path\n",
    "path = r'C:\\Users\\elena\\Documents\\02.2025 Instacart Basket Analysis'"
   ]
  },
  {
   "cell_type": "code",
   "execution_count": 5,
   "id": "2ee99d20-060e-4bb1-b6d0-b3854f88626c",
   "metadata": {},
   "outputs": [],
   "source": [
    "# Import the big merged data file \n",
    "ords_prods_merge = pd.read_pickle(os.path.join(path, '02 Data','Prepared Data', 'ords_prods_merge4.9.pkl'))"
   ]
  },
  {
   "cell_type": "markdown",
   "id": "2c02db57-7cfe-4026-9262-843ebbf2ed66",
   "metadata": {},
   "source": [
    "# 03 Data security"
   ]
  },
  {
   "cell_type": "code",
   "execution_count": 10,
   "id": "8202685f-b51f-46b5-af5f-9dbbd4a71f0e",
   "metadata": {},
   "outputs": [
    {
     "data": {
      "text/html": [
       "<div>\n",
       "<style scoped>\n",
       "    .dataframe tbody tr th:only-of-type {\n",
       "        vertical-align: middle;\n",
       "    }\n",
       "\n",
       "    .dataframe tbody tr th {\n",
       "        vertical-align: top;\n",
       "    }\n",
       "\n",
       "    .dataframe thead th {\n",
       "        text-align: right;\n",
       "    }\n",
       "</style>\n",
       "<table border=\"1\" class=\"dataframe\">\n",
       "  <thead>\n",
       "    <tr style=\"text-align: right;\">\n",
       "      <th></th>\n",
       "      <th>order_id</th>\n",
       "      <th>product_id</th>\n",
       "      <th>add_to_cart_order</th>\n",
       "      <th>reordered</th>\n",
       "      <th>user_id</th>\n",
       "      <th>order_number</th>\n",
       "      <th>orders_day_of_week</th>\n",
       "      <th>order_hour_of_day</th>\n",
       "      <th>days_since_prior_order</th>\n",
       "      <th>product_name</th>\n",
       "      <th>...</th>\n",
       "      <th>name</th>\n",
       "      <th>surname</th>\n",
       "      <th>gender</th>\n",
       "      <th>state</th>\n",
       "      <th>age</th>\n",
       "      <th>date_joined</th>\n",
       "      <th>n_dependants</th>\n",
       "      <th>marital_status</th>\n",
       "      <th>income</th>\n",
       "      <th>_merge</th>\n",
       "    </tr>\n",
       "  </thead>\n",
       "  <tbody>\n",
       "    <tr>\n",
       "      <th>0</th>\n",
       "      <td>2</td>\n",
       "      <td>33120</td>\n",
       "      <td>1</td>\n",
       "      <td>1</td>\n",
       "      <td>202279</td>\n",
       "      <td>3</td>\n",
       "      <td>5</td>\n",
       "      <td>9</td>\n",
       "      <td>8.0</td>\n",
       "      <td>Organic Egg Whites</td>\n",
       "      <td>...</td>\n",
       "      <td>Paul</td>\n",
       "      <td>Coleman</td>\n",
       "      <td>Male</td>\n",
       "      <td>Idaho</td>\n",
       "      <td>57</td>\n",
       "      <td>2/6/2020</td>\n",
       "      <td>3</td>\n",
       "      <td>married</td>\n",
       "      <td>98119</td>\n",
       "      <td>both</td>\n",
       "    </tr>\n",
       "    <tr>\n",
       "      <th>1</th>\n",
       "      <td>2</td>\n",
       "      <td>28985</td>\n",
       "      <td>2</td>\n",
       "      <td>1</td>\n",
       "      <td>202279</td>\n",
       "      <td>3</td>\n",
       "      <td>5</td>\n",
       "      <td>9</td>\n",
       "      <td>8.0</td>\n",
       "      <td>Michigan Organic Kale</td>\n",
       "      <td>...</td>\n",
       "      <td>Paul</td>\n",
       "      <td>Coleman</td>\n",
       "      <td>Male</td>\n",
       "      <td>Idaho</td>\n",
       "      <td>57</td>\n",
       "      <td>2/6/2020</td>\n",
       "      <td>3</td>\n",
       "      <td>married</td>\n",
       "      <td>98119</td>\n",
       "      <td>both</td>\n",
       "    </tr>\n",
       "    <tr>\n",
       "      <th>2</th>\n",
       "      <td>2</td>\n",
       "      <td>9327</td>\n",
       "      <td>3</td>\n",
       "      <td>0</td>\n",
       "      <td>202279</td>\n",
       "      <td>3</td>\n",
       "      <td>5</td>\n",
       "      <td>9</td>\n",
       "      <td>8.0</td>\n",
       "      <td>Garlic Powder</td>\n",
       "      <td>...</td>\n",
       "      <td>Paul</td>\n",
       "      <td>Coleman</td>\n",
       "      <td>Male</td>\n",
       "      <td>Idaho</td>\n",
       "      <td>57</td>\n",
       "      <td>2/6/2020</td>\n",
       "      <td>3</td>\n",
       "      <td>married</td>\n",
       "      <td>98119</td>\n",
       "      <td>both</td>\n",
       "    </tr>\n",
       "    <tr>\n",
       "      <th>3</th>\n",
       "      <td>2</td>\n",
       "      <td>45918</td>\n",
       "      <td>4</td>\n",
       "      <td>1</td>\n",
       "      <td>202279</td>\n",
       "      <td>3</td>\n",
       "      <td>5</td>\n",
       "      <td>9</td>\n",
       "      <td>8.0</td>\n",
       "      <td>Coconut Butter</td>\n",
       "      <td>...</td>\n",
       "      <td>Paul</td>\n",
       "      <td>Coleman</td>\n",
       "      <td>Male</td>\n",
       "      <td>Idaho</td>\n",
       "      <td>57</td>\n",
       "      <td>2/6/2020</td>\n",
       "      <td>3</td>\n",
       "      <td>married</td>\n",
       "      <td>98119</td>\n",
       "      <td>both</td>\n",
       "    </tr>\n",
       "    <tr>\n",
       "      <th>4</th>\n",
       "      <td>2</td>\n",
       "      <td>30035</td>\n",
       "      <td>5</td>\n",
       "      <td>0</td>\n",
       "      <td>202279</td>\n",
       "      <td>3</td>\n",
       "      <td>5</td>\n",
       "      <td>9</td>\n",
       "      <td>8.0</td>\n",
       "      <td>Natural Sweetener</td>\n",
       "      <td>...</td>\n",
       "      <td>Paul</td>\n",
       "      <td>Coleman</td>\n",
       "      <td>Male</td>\n",
       "      <td>Idaho</td>\n",
       "      <td>57</td>\n",
       "      <td>2/6/2020</td>\n",
       "      <td>3</td>\n",
       "      <td>married</td>\n",
       "      <td>98119</td>\n",
       "      <td>both</td>\n",
       "    </tr>\n",
       "  </tbody>\n",
       "</table>\n",
       "<p>5 rows × 32 columns</p>\n",
       "</div>"
      ],
      "text/plain": [
       "   order_id  product_id  add_to_cart_order  reordered user_id  order_number  \\\n",
       "0         2       33120                  1          1  202279             3   \n",
       "1         2       28985                  2          1  202279             3   \n",
       "2         2        9327                  3          0  202279             3   \n",
       "3         2       45918                  4          1  202279             3   \n",
       "4         2       30035                  5          0  202279             3   \n",
       "\n",
       "   orders_day_of_week  order_hour_of_day  days_since_prior_order  \\\n",
       "0                   5                  9                     8.0   \n",
       "1                   5                  9                     8.0   \n",
       "2                   5                  9                     8.0   \n",
       "3                   5                  9                     8.0   \n",
       "4                   5                  9                     8.0   \n",
       "\n",
       "            product_name  ...  name  surname  gender  state age date_joined  \\\n",
       "0     Organic Egg Whites  ...  Paul  Coleman    Male  Idaho  57    2/6/2020   \n",
       "1  Michigan Organic Kale  ...  Paul  Coleman    Male  Idaho  57    2/6/2020   \n",
       "2          Garlic Powder  ...  Paul  Coleman    Male  Idaho  57    2/6/2020   \n",
       "3         Coconut Butter  ...  Paul  Coleman    Male  Idaho  57    2/6/2020   \n",
       "4      Natural Sweetener  ...  Paul  Coleman    Male  Idaho  57    2/6/2020   \n",
       "\n",
       "   n_dependants marital_status  income _merge  \n",
       "0             3        married   98119   both  \n",
       "1             3        married   98119   both  \n",
       "2             3        married   98119   both  \n",
       "3             3        married   98119   both  \n",
       "4             3        married   98119   both  \n",
       "\n",
       "[5 rows x 32 columns]"
      ]
     },
     "execution_count": 10,
     "metadata": {},
     "output_type": "execute_result"
    }
   ],
   "source": [
    "ords_prods_merge.head()"
   ]
  },
  {
   "cell_type": "markdown",
   "id": "ac8749a4-86a5-4635-bde7-ee6c6c179c63",
   "metadata": {},
   "source": [
    "The merged data includes first names and last names for all customers, making them identifiable. Customers have unique id numbers, so there is no need for personal names when analysing the data. Therefore, it is prudent to remove the names while working with the data, thus reducing security risks. "
   ]
  },
  {
   "cell_type": "code",
   "execution_count": 8,
   "id": "32501336-8624-4aff-903b-82b8a92a06ea",
   "metadata": {},
   "outputs": [],
   "source": [
    "# Create a data frame that does not contain first and last name \n",
    "ords_prods_merge1 = ords_prods_merge.drop(['name', 'surname'],  axis =1)"
   ]
  },
  {
   "cell_type": "code",
   "execution_count": 9,
   "id": "24916464-cdd2-47ea-8d3f-023f273519ca",
   "metadata": {},
   "outputs": [
    {
     "data": {
      "text/plain": [
       "Index(['order_id', 'product_id', 'add_to_cart_order', 'reordered', 'user_id',\n",
       "       'order_number', 'orders_day_of_week', 'order_hour_of_day',\n",
       "       'days_since_prior_order', 'product_name', 'aisle_id', 'department_id',\n",
       "       'prices', 'price_range_loc', 'busiest_days', 'busiest_period_of_day',\n",
       "       'max_order', 'loyalty_flag', 'mean_price', 'spending_flag',\n",
       "       'prior_order_days_median', 'frequentcustomer_flag', 'gender', 'state',\n",
       "       'age', 'date_joined', 'n_dependants', 'marital_status', 'income',\n",
       "       '_merge'],\n",
       "      dtype='object')"
      ]
     },
     "execution_count": 9,
     "metadata": {},
     "output_type": "execute_result"
    }
   ],
   "source": [
    "# Checking that 'name' and 'surname' were excluded\n",
    "ords_prods_merge1.columns"
   ]
  },
  {
   "cell_type": "markdown",
   "id": "0ff29664-e583-408d-af67-a7d9b1d41c13",
   "metadata": {},
   "source": [
    "# 04 Spending habits between different regions"
   ]
  },
  {
   "cell_type": "code",
   "execution_count": 23,
   "id": "11729a1a-a0a2-40da-950c-c359bd9aa19f",
   "metadata": {},
   "outputs": [
    {
     "data": {
      "text/plain": [
       "state\n",
       "Pennsylvania            667007\n",
       "California              659695\n",
       "Rhode Island            656777\n",
       "Georgia                 656249\n",
       "New Mexico              654400\n",
       "Arizona                 653864\n",
       "North Carolina          651790\n",
       "Oklahoma                651661\n",
       "Alaska                  648451\n",
       "Minnesota               647738\n",
       "Massachusetts           646275\n",
       "Wyoming                 644191\n",
       "Virginia                641280\n",
       "Missouri                640576\n",
       "Texas                   640285\n",
       "Colorado                639173\n",
       "Maine                   638479\n",
       "North Dakota            638391\n",
       "Alabama                 637863\n",
       "Kansas                  637418\n",
       "Louisiana               637414\n",
       "Delaware                636906\n",
       "South Carolina          636677\n",
       "Oregon                  636332\n",
       "Arkansas                636070\n",
       "Nevada                  636034\n",
       "New York                635912\n",
       "Montana                 635181\n",
       "South Dakota            633649\n",
       "Illinois                632928\n",
       "Hawaii                  632786\n",
       "Washington              632722\n",
       "Mississippi             632575\n",
       "Kentucky                632389\n",
       "Michigan                630816\n",
       "Florida                 628964\n",
       "Ohio                    628218\n",
       "Wisconsin               627981\n",
       "New Jersey              627599\n",
       "Indiana                 627185\n",
       "Maryland                626402\n",
       "Nebraska                625736\n",
       "Iowa                    625429\n",
       "Connecticut             622940\n",
       "Tennessee               617783\n",
       "New Hampshire           615259\n",
       "District of Columbia    613598\n",
       "West Virginia           612190\n",
       "Utah                    611814\n",
       "Vermont                 611644\n",
       "Idaho                   607036\n",
       "Name: count, dtype: int64"
      ]
     },
     "execution_count": 23,
     "metadata": {},
     "output_type": "execute_result"
    }
   ],
   "source": [
    "ords_prods_merge1['state'].value_counts(dropna=False)"
   ]
  },
  {
   "cell_type": "code",
   "execution_count": 14,
   "id": "78c62f39-4ab0-4ae6-82dc-b1c2dfd3edce",
   "metadata": {},
   "outputs": [],
   "source": [
    "# Defining the four geographic regions into which States need to be grouped\n",
    "northeaststates = ['Maine', 'New Hampshire', 'Vermont', 'Massachusetts', 'Rhode Island', 'Connecticut', 'New York', 'Pennsylvania', 'New Jersey']"
   ]
  },
  {
   "cell_type": "code",
   "execution_count": 16,
   "id": "1a03d9a4-8be9-4e38-8992-682879ca15e5",
   "metadata": {},
   "outputs": [],
   "source": [
    "midweststates = ['Wisconsin', 'Michigan', 'Illinois', 'Indiana', 'Ohio', 'North Dakota', 'South Dakota', 'Nebraska', 'Kansas', 'Minnesota', 'Iowa', 'Missouri']"
   ]
  },
  {
   "cell_type": "code",
   "execution_count": 18,
   "id": "18fa82e7-a4db-40b7-b59f-ee856062836c",
   "metadata": {},
   "outputs": [],
   "source": [
    "southstates = [\n",
    "    'Delaware',\n",
    "    'Maryland',\n",
    "    'District of Columbia',\n",
    "    'Virginia',\n",
    "    'West Virginia',\n",
    "    'North Carolina',\n",
    "    'South Carolina',\n",
    "    'Georgia',\n",
    "    'Florida',\n",
    "    'Kentucky',\n",
    "    'Tennessee',\n",
    "    'Mississippi',\n",
    "    'Alabama',\n",
    "    'Oklahoma',\n",
    "    'Texas',\n",
    "    'Arkansas',\n",
    "    'Louisiana']\n"
   ]
  },
  {
   "cell_type": "code",
   "execution_count": 20,
   "id": "7488a979-d500-4666-b88b-d3291f78c30c",
   "metadata": {},
   "outputs": [],
   "source": [
    "weststates = [\n",
    "    'Idaho',\n",
    "'Montana',\n",
    "'Wyoming',\n",
    "'Nevada',\n",
    "'Utah',\n",
    "'Colorado',\n",
    "'Arizona',\n",
    "'New Mexico',\n",
    "'Alaska',\n",
    "'Washington',\n",
    "'Oregon',\n",
    "'California',\n",
    "'Hawaii']\n"
   ]
  },
  {
   "cell_type": "code",
   "execution_count": 22,
   "id": "257cdb73-c179-4a35-aff2-d13a55f57b39",
   "metadata": {},
   "outputs": [],
   "source": [
    "# Defining the new 'region' column using the four categories\n",
    "ords_prods_merge1.loc[ords_prods_merge1['state'].isin(northeaststates), 'region'] = 'Northeast'"
   ]
  },
  {
   "cell_type": "code",
   "execution_count": 23,
   "id": "817bdf70-4518-4d53-a765-7082113361b1",
   "metadata": {},
   "outputs": [],
   "source": [
    "ords_prods_merge1.loc[ords_prods_merge1['state'].isin(midweststates), 'region'] = 'Midwest'"
   ]
  },
  {
   "cell_type": "code",
   "execution_count": 24,
   "id": "98597b40-391c-4508-961f-725e12497bc3",
   "metadata": {},
   "outputs": [],
   "source": [
    "ords_prods_merge1.loc[ords_prods_merge1['state'].isin(southstates), 'region'] = 'South'"
   ]
  },
  {
   "cell_type": "code",
   "execution_count": 26,
   "id": "b54a5289-370c-405f-917b-310f0c0ca42c",
   "metadata": {},
   "outputs": [],
   "source": [
    "ords_prods_merge1.loc[ords_prods_merge1['state'].isin(weststates), 'region'] = 'West'"
   ]
  },
  {
   "cell_type": "code",
   "execution_count": 27,
   "id": "5720480e-0488-411a-bd9d-9a629aed431a",
   "metadata": {},
   "outputs": [
    {
     "data": {
      "text/plain": [
       "region\n",
       "South        10790096\n",
       "West          8291679\n",
       "Midwest       7596065\n",
       "Northeast     5721892\n",
       "Name: count, dtype: int64"
      ]
     },
     "execution_count": 27,
     "metadata": {},
     "output_type": "execute_result"
    }
   ],
   "source": [
    "# Checking the 'region' variable counts\n",
    "ords_prods_merge1['region'].value_counts(dropna=False)"
   ]
  },
  {
   "cell_type": "code",
   "execution_count": 76,
   "id": "a8269939-73cb-4c0a-829b-2400cc91972a",
   "metadata": {},
   "outputs": [],
   "source": [
    "# Creating crosstab between 'region' and 'spending_flag'\n",
    "crosstab = pd.crosstab(ords_prods_merge1['region'], ords_prods_merge1['spending_flag'], dropna = False)"
   ]
  },
  {
   "cell_type": "code",
   "execution_count": 78,
   "id": "cd487b15-c41a-4751-b696-bedf8d49abdc",
   "metadata": {},
   "outputs": [],
   "source": [
    "# Saving crosstab to clipboard\n",
    "crosstab.to_clipboard()"
   ]
  },
  {
   "cell_type": "code",
   "execution_count": 80,
   "id": "bab95c95-27da-4476-8690-6ca464c04d39",
   "metadata": {},
   "outputs": [
    {
     "data": {
      "text/html": [
       "<div>\n",
       "<style scoped>\n",
       "    .dataframe tbody tr th:only-of-type {\n",
       "        vertical-align: middle;\n",
       "    }\n",
       "\n",
       "    .dataframe tbody tr th {\n",
       "        vertical-align: top;\n",
       "    }\n",
       "\n",
       "    .dataframe thead th {\n",
       "        text-align: right;\n",
       "    }\n",
       "</style>\n",
       "<table border=\"1\" class=\"dataframe\">\n",
       "  <thead>\n",
       "    <tr style=\"text-align: right;\">\n",
       "      <th>spending_flag</th>\n",
       "      <th>High spender</th>\n",
       "      <th>Low spender</th>\n",
       "    </tr>\n",
       "    <tr>\n",
       "      <th>region</th>\n",
       "      <th></th>\n",
       "      <th></th>\n",
       "    </tr>\n",
       "  </thead>\n",
       "  <tbody>\n",
       "    <tr>\n",
       "      <th>Midwest</th>\n",
       "      <td>29265</td>\n",
       "      <td>7566800</td>\n",
       "    </tr>\n",
       "    <tr>\n",
       "      <th>Northeast</th>\n",
       "      <td>18639</td>\n",
       "      <td>5703253</td>\n",
       "    </tr>\n",
       "    <tr>\n",
       "      <th>South</th>\n",
       "      <td>40577</td>\n",
       "      <td>10749519</td>\n",
       "    </tr>\n",
       "    <tr>\n",
       "      <th>West</th>\n",
       "      <td>31238</td>\n",
       "      <td>8260441</td>\n",
       "    </tr>\n",
       "  </tbody>\n",
       "</table>\n",
       "</div>"
      ],
      "text/plain": [
       "spending_flag  High spender  Low spender\n",
       "region                                  \n",
       "Midwest               29265      7566800\n",
       "Northeast             18639      5703253\n",
       "South                 40577     10749519\n",
       "West                  31238      8260441"
      ]
     },
     "execution_count": 80,
     "metadata": {},
     "output_type": "execute_result"
    }
   ],
   "source": [
    "crosstab"
   ]
  },
  {
   "cell_type": "code",
   "execution_count": 53,
   "id": "94ca8741-3f60-4152-a8a8-4662220c821d",
   "metadata": {},
   "outputs": [
    {
     "data": {
      "image/png": "[encoded data removed]",
      "text/plain": [
       "<Figure size 640x480 with 1 Axes>"
      ]
     },
     "metadata": {},
     "output_type": "display_data"
    }
   ],
   "source": [
    "clusterbar = sns.countplot(data=ords_prods_merge1, x='region', hue='spending_flag')"
   ]
  },
  {
   "cell_type": "markdown",
   "id": "85ad85a3-f501-4b3d-8994-943c84319588",
   "metadata": {},
   "source": [
    "In all regions, there majority of customers are categorized as low spenders. The highest number of high spenders lives in the South. However, the South also has the highest number of low spenders, compared to other regions. It does not appear that high spending customers are associated with one particular US region. "
   ]
  },
  {
   "cell_type": "code",
   "execution_count": 55,
   "id": "9d2688cc-b288-48c1-a364-13f195ce0a3e",
   "metadata": {},
   "outputs": [],
   "source": [
    "# Exporting the spending flag vs region bar chart\n",
    "clusterbar.figure.savefig(os.path.join(path, '04 Analysis','Visualizations', 'spending_vs_region.png'))"
   ]
  },
  {
   "cell_type": "markdown",
   "id": "3b5afef6-2b69-4a2e-b01b-106784b6e57f",
   "metadata": {},
   "source": [
    "# 05 Excluding low-activity customers from the dataframe"
   ]
  },
  {
   "cell_type": "code",
   "execution_count": 35,
   "id": "6256fe60-a094-454c-b361-a72145ebb588",
   "metadata": {},
   "outputs": [
    {
     "data": {
      "text/plain": [
       "max_order\n",
       "99    1171076\n",
       "8      811706\n",
       "6      811237\n",
       "9      810057\n",
       "7      803838\n",
       "       ...   \n",
       "97      44949\n",
       "98      44585\n",
       "96      40449\n",
       "2           6\n",
       "1           5\n",
       "Name: count, Length: 99, dtype: int64"
      ]
     },
     "execution_count": 35,
     "metadata": {},
     "output_type": "execute_result"
    }
   ],
   "source": [
    "ords_prods_merge1['max_order'].value_counts(dropna=False)"
   ]
  },
  {
   "cell_type": "code",
   "execution_count": 39,
   "id": "fb28fb6b-7a77-436a-a32b-94b2b780b73d",
   "metadata": {},
   "outputs": [
    {
     "data": {
      "text/plain": [
       "count    3.239973e+07\n",
       "mean     3.305268e+01\n",
       "std      2.515525e+01\n",
       "min      1.000000e+00\n",
       "25%      1.300000e+01\n",
       "50%      2.600000e+01\n",
       "75%      4.700000e+01\n",
       "max      9.900000e+01\n",
       "Name: max_order, dtype: float64"
      ]
     },
     "execution_count": 39,
     "metadata": {},
     "output_type": "execute_result"
    }
   ],
   "source": [
    "ords_prods_merge1['max_order'].describe()"
   ]
  },
  {
   "cell_type": "code",
   "execution_count": 32,
   "id": "2d87e018-5175-4a6e-a901-018109e5d9fc",
   "metadata": {},
   "outputs": [],
   "source": [
    "# Defining 'activity_flag' column using 'max_order' column which gives last order number for each customer\n",
    "ords_prods_merge1.loc[ords_prods_merge1['max_order'] < 5, 'activity_flag'] = 'Low activity'\n",
    "ords_prods_merge1.loc[ords_prods_merge1['max_order'] >= 5, 'activity_flag'] = 'Normal activity'"
   ]
  },
  {
   "cell_type": "code",
   "execution_count": 33,
   "id": "e6f5f56a-517e-4c02-bd53-8ab26a00456f",
   "metadata": {},
   "outputs": [
    {
     "data": {
      "text/plain": [
       "activity_flag\n",
       "Normal activity    30959687\n",
       "Low activity        1440045\n",
       "Name: count, dtype: int64"
      ]
     },
     "execution_count": 33,
     "metadata": {},
     "output_type": "execute_result"
    }
   ],
   "source": [
    "# Checking the 'activity_flag' variable counts\n",
    "ords_prods_merge1['activity_flag'].value_counts(dropna=False)"
   ]
  },
  {
   "cell_type": "code",
   "execution_count": 36,
   "id": "37bbec37-7db1-461a-b193-e95bbe9fe77e",
   "metadata": {},
   "outputs": [],
   "source": [
    "# Exclude low activity customer\n",
    "exclude_activity = ['Low activity']"
   ]
  },
  {
   "cell_type": "code",
   "execution_count": 38,
   "id": "8227dca7-76ff-4131-8b0f-e03cbc70a1e5",
   "metadata": {},
   "outputs": [],
   "source": [
    "# Dataframe with low activity customers filtered out\n",
    "df = ords_prods_merge1[~ords_prods_merge1['activity_flag'].isin(exclude_activity)]"
   ]
  },
  {
   "cell_type": "code",
   "execution_count": 39,
   "id": "4a3cabd4-88ff-4c13-a169-6a68bc720726",
   "metadata": {},
   "outputs": [
    {
     "data": {
      "text/plain": [
       "activity_flag\n",
       "Normal activity    30959687\n",
       "Name: count, dtype: int64"
      ]
     },
     "execution_count": 39,
     "metadata": {},
     "output_type": "execute_result"
    }
   ],
   "source": [
    "df['activity_flag'].value_counts(dropna=False)"
   ]
  },
  {
   "cell_type": "markdown",
   "id": "5aff371e-9170-41de-8b30-cf2d88b4d80b",
   "metadata": {},
   "source": [
    "# 06 Exporting the dataframe with normal activity customers as a pickle file"
   ]
  },
  {
   "cell_type": "code",
   "execution_count": 43,
   "id": "ec45acd9-e77b-48b8-ac6d-43799794a16e",
   "metadata": {},
   "outputs": [],
   "source": [
    "df.to_pickle(os.path.join(path, '02 Data','Prepared Data', 'normal_activity_customers.pkl'))"
   ]
  },
  {
   "cell_type": "code",
   "execution_count": null,
   "id": "d4f85ec5-6721-45e0-be60-a8edc59597a0",
   "metadata": {},
   "outputs": [],
   "source": []
  }
 ],
 "metadata": {
  "kernelspec": {
   "display_name": "Python [conda env:base] *",
   "language": "python",
   "name": "conda-base-py"
  },
  "language_info": {
   "codemirror_mode": {
    "name": "ipython",
    "version": 3
   },
   "file_extension": ".py",
   "mimetype": "text/x-python",
   "name": "python",
   "nbconvert_exporter": "python",
   "pygments_lexer": "ipython3",
   "version": "3.12.7"
  }
 },
 "nbformat": 4,
 "nbformat_minor": 5
}
