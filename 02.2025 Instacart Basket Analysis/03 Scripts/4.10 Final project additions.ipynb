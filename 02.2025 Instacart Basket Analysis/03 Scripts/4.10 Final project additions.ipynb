{
 "cells": [
  {
   "cell_type": "markdown",
   "id": "bfdf6b79-0a5c-402c-8fd5-004402c62b6a",
   "metadata": {},
   "source": [
    "## CONTENTS\n",
    "### 1 Importing libraries\n",
    "### 2 Importing data\n",
    "### 3 Spending at different times of day"
   ]
  },
  {
   "cell_type": "markdown",
   "id": "28cf0ccf-16fe-43e0-a4cc-4f80bf1ce94e",
   "metadata": {},
   "source": [
    "# 1 Importing libraries"
   ]
  },
  {
   "cell_type": "code",
   "execution_count": 4,
   "id": "7592bab5-6b12-4714-b6a1-a29db93e84b8",
   "metadata": {},
   "outputs": [],
   "source": [
    "# Import Libraries\n",
    "import pandas as pd\n",
    "import numpy as np\n",
    "import os\n",
    "import matplotlib.pyplot as plt\n",
    "import seaborn as sns\n",
    "import scipy"
   ]
  },
  {
   "cell_type": "markdown",
   "id": "0bb9dfbf-a7df-41eb-bb9b-1ae2cb1de5c5",
   "metadata": {},
   "source": [
    "# 2 Importing data"
   ]
  },
  {
   "cell_type": "code",
   "execution_count": 7,
   "id": "b682ba6c-8401-49cb-845e-dee401b222c2",
   "metadata": {},
   "outputs": [],
   "source": [
    "# Establish path\n",
    "path = r'C:\\Users\\elena\\Documents\\02.2025 Instacart Basket Analysis'"
   ]
  },
  {
   "cell_type": "code",
   "execution_count": 9,
   "id": "93439c20-be65-4375-81bb-9c03bdb17dbe",
   "metadata": {},
   "outputs": [],
   "source": [
    "# Import the big merged data file \n",
    "ords_prods_merge = pd.read_pickle(os.path.join(path, '02 Data','Prepared Data', 'merged_database_final.pkl'))"
   ]
  },
  {
   "cell_type": "code",
   "execution_count": 11,
   "id": "7931d818-ea4e-4b9e-b6e4-686405b1374c",
   "metadata": {},
   "outputs": [
    {
     "data": {
      "text/plain": [
       "Index(['order_id', 'product_id', 'add_to_cart_order', 'reordered', 'user_id',\n",
       "       'order_number', 'orders_day_of_week', 'order_hour_of_day',\n",
       "       'days_since_prior_order', 'product_name', 'aisle_id', 'department_id',\n",
       "       'prices', 'price_range_loc', 'busiest_days', 'busiest_period_of_day',\n",
       "       'max_order', 'loyalty_flag', 'mean_price', 'spending_flag',\n",
       "       'prior_order_days_median', 'frequentcustomer_flag', 'gender', 'state',\n",
       "       'age', 'date_joined', 'n_dependants', 'marital_status', 'income',\n",
       "       'region', 'activity_flag', 'age_group', 'dependants_flag', 'department',\n",
       "       '_merge', 'customer_group', 'income_group'],\n",
       "      dtype='object')"
      ]
     },
     "execution_count": 11,
     "metadata": {},
     "output_type": "execute_result"
    }
   ],
   "source": [
    "# Checking the existing variables \n",
    "ords_prods_merge.columns"
   ]
  },
  {
   "cell_type": "markdown",
   "id": "10617a21-61cd-4d05-9d28-985ab89975c1",
   "metadata": {},
   "source": [
    "# 3 Spending at different times of day"
   ]
  },
  {
   "cell_type": "code",
   "execution_count": 76,
   "id": "e94247cc-26d7-406b-8c27-de8ef69417a1",
   "metadata": {},
   "outputs": [],
   "source": [
    "# Specify pivot table for the sums spent during each hour of day\n",
    "pivot_table = ords_prods_merge.pivot_table(values='prices', index='order_hour_of_day', aggfunc='sum')"
   ]
  },
  {
   "cell_type": "code",
   "execution_count": 78,
   "id": "78f7fb05-2b0b-4aaf-9a25-f7d312862e57",
   "metadata": {},
   "outputs": [
    {
     "data": {
      "text/html": [
       "<div>\n",
       "<style scoped>\n",
       "    .dataframe tbody tr th:only-of-type {\n",
       "        vertical-align: middle;\n",
       "    }\n",
       "\n",
       "    .dataframe tbody tr th {\n",
       "        vertical-align: top;\n",
       "    }\n",
       "\n",
       "    .dataframe thead th {\n",
       "        text-align: right;\n",
       "    }\n",
       "</style>\n",
       "<table border=\"1\" class=\"dataframe\">\n",
       "  <thead>\n",
       "    <tr style=\"text-align: right;\">\n",
       "      <th></th>\n",
       "      <th>prices</th>\n",
       "    </tr>\n",
       "    <tr>\n",
       "      <th>order_hour_of_day</th>\n",
       "      <th></th>\n",
       "    </tr>\n",
       "  </thead>\n",
       "  <tbody>\n",
       "    <tr>\n",
       "      <th>0</th>\n",
       "      <td>1625007.5</td>\n",
       "    </tr>\n",
       "    <tr>\n",
       "      <th>1</th>\n",
       "      <td>855655.6</td>\n",
       "    </tr>\n",
       "    <tr>\n",
       "      <th>2</th>\n",
       "      <td>512533.9</td>\n",
       "    </tr>\n",
       "    <tr>\n",
       "      <th>3</th>\n",
       "      <td>381978.4</td>\n",
       "    </tr>\n",
       "    <tr>\n",
       "      <th>4</th>\n",
       "      <td>398014.7</td>\n",
       "    </tr>\n",
       "    <tr>\n",
       "      <th>5</th>\n",
       "      <td>660968.6</td>\n",
       "    </tr>\n",
       "    <tr>\n",
       "      <th>6</th>\n",
       "      <td>2197137.1</td>\n",
       "    </tr>\n",
       "    <tr>\n",
       "      <th>7</th>\n",
       "      <td>6750581.7</td>\n",
       "    </tr>\n",
       "    <tr>\n",
       "      <th>8</th>\n",
       "      <td>12922482.5</td>\n",
       "    </tr>\n",
       "    <tr>\n",
       "      <th>9</th>\n",
       "      <td>18320180.5</td>\n",
       "    </tr>\n",
       "    <tr>\n",
       "      <th>10</th>\n",
       "      <td>20527804.2</td>\n",
       "    </tr>\n",
       "    <tr>\n",
       "      <th>11</th>\n",
       "      <td>20315206.0</td>\n",
       "    </tr>\n",
       "    <tr>\n",
       "      <th>12</th>\n",
       "      <td>19439454.0</td>\n",
       "    </tr>\n",
       "    <tr>\n",
       "      <th>13</th>\n",
       "      <td>19785688.3</td>\n",
       "    </tr>\n",
       "    <tr>\n",
       "      <th>14</th>\n",
       "      <td>20033134.3</td>\n",
       "    </tr>\n",
       "    <tr>\n",
       "      <th>15</th>\n",
       "      <td>19791374.1</td>\n",
       "    </tr>\n",
       "    <tr>\n",
       "      <th>16</th>\n",
       "      <td>18828684.5</td>\n",
       "    </tr>\n",
       "    <tr>\n",
       "      <th>17</th>\n",
       "      <td>15473930.3</td>\n",
       "    </tr>\n",
       "    <tr>\n",
       "      <th>18</th>\n",
       "      <td>12111382.2</td>\n",
       "    </tr>\n",
       "    <tr>\n",
       "      <th>19</th>\n",
       "      <td>9304110.2</td>\n",
       "    </tr>\n",
       "    <tr>\n",
       "      <th>20</th>\n",
       "      <td>7260387.3</td>\n",
       "    </tr>\n",
       "    <tr>\n",
       "      <th>21</th>\n",
       "      <td>5955876.5</td>\n",
       "    </tr>\n",
       "    <tr>\n",
       "      <th>22</th>\n",
       "      <td>4744754.1</td>\n",
       "    </tr>\n",
       "    <tr>\n",
       "      <th>23</th>\n",
       "      <td>2997909.1</td>\n",
       "    </tr>\n",
       "  </tbody>\n",
       "</table>\n",
       "</div>"
      ],
      "text/plain": [
       "                       prices\n",
       "order_hour_of_day            \n",
       "0                   1625007.5\n",
       "1                    855655.6\n",
       "2                    512533.9\n",
       "3                    381978.4\n",
       "4                    398014.7\n",
       "5                    660968.6\n",
       "6                   2197137.1\n",
       "7                   6750581.7\n",
       "8                  12922482.5\n",
       "9                  18320180.5\n",
       "10                 20527804.2\n",
       "11                 20315206.0\n",
       "12                 19439454.0\n",
       "13                 19785688.3\n",
       "14                 20033134.3\n",
       "15                 19791374.1\n",
       "16                 18828684.5\n",
       "17                 15473930.3\n",
       "18                 12111382.2\n",
       "19                  9304110.2\n",
       "20                  7260387.3\n",
       "21                  5955876.5\n",
       "22                  4744754.1\n",
       "23                  2997909.1"
      ]
     },
     "execution_count": 78,
     "metadata": {},
     "output_type": "execute_result"
    }
   ],
   "source": [
    "pivot_table"
   ]
  },
  {
   "cell_type": "code",
   "execution_count": 84,
   "id": "4b436571-161c-42e2-bc79-366a0d96eccc",
   "metadata": {},
   "outputs": [
    {
     "data": {
      "image/png": "[encoded data removed]",
      "text/plain": [
       "<Figure size 1000x600 with 1 Axes>"
      ]
     },
     "metadata": {},
     "output_type": "display_data"
    }
   ],
   "source": [
    "# Do a line plot of the pivot table\n",
    "fig20 = pivot_table.plot(kind='line', figsize=(10, 6), legend=False)\n",
    "\n",
    "# Add titles and labels\n",
    "plt.title('Total Spent by Hour of Day')\n",
    "plt.xlabel('Hour of Day')\n",
    "plt.ylabel('Total Spent')\n",
    "plt.xticks(range(24))\n",
    "plt.show()"
   ]
  },
  {
   "cell_type": "code",
   "execution_count": 86,
   "id": "70fefe1e-ad45-4883-bc6d-c24231896d7c",
   "metadata": {},
   "outputs": [],
   "source": [
    "# Exporting the figure\n",
    "fig20.figure.savefig(os.path.join(path, '04 Analysis','Visualizations', 'sum_by_hour.png'), bbox_inches='tight')"
   ]
  },
  {
   "cell_type": "code",
   "execution_count": null,
   "id": "34aea744-5470-4997-885f-51968215a98c",
   "metadata": {},
   "outputs": [],
   "source": []
  }
 ],
 "metadata": {
  "kernelspec": {
   "display_name": "Python [conda env:base] *",
   "language": "python",
   "name": "conda-base-py"
  },
  "language_info": {
   "codemirror_mode": {
    "name": "ipython",
    "version": 3
   },
   "file_extension": ".py",
   "mimetype": "text/x-python",
   "name": "python",
   "nbconvert_exporter": "python",
   "pygments_lexer": "ipython3",
   "version": "3.12.7"
  }
 },
 "nbformat": 4,
 "nbformat_minor": 5
}
